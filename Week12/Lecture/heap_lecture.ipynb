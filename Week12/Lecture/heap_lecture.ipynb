{
 "cells": [
  {
   "cell_type": "code",
   "execution_count": 2,
   "metadata": {},
   "outputs": [],
   "source": [
    "import numpy as np\n",
    "import matplotlib.pyplot as plt"
   ]
  },
  {
   "cell_type": "code",
   "execution_count": 3,
   "metadata": {},
   "outputs": [],
   "source": [
    "def insert(heap, val): # heap is a max heap\n",
    "    heap.append(val)\n",
    "    current_idx = len(heap) - 1\n",
    "    parent_idx = (current_idx - 1) // 2\n",
    "\n",
    "    while parent_idx >= 0 and heap[parent_idx] < heap[current_idx]:\n",
    "        temp = heap[current_idx]\n",
    "        heap[current_idx] = heap[parent_idx]\n",
    "        heap[parent_idx] = temp\n",
    "\n",
    "        current_idx = parent_idx\n",
    "        parent_idx = (current_idx - 1) // 2"
   ]
  },
  {
   "cell_type": "code",
   "execution_count": 4,
   "metadata": {},
   "outputs": [
    {
     "name": "stdout",
     "output_type": "stream",
     "text": [
      "[22, 11, 19, 3, 5, 1]\n"
     ]
    }
   ],
   "source": [
    "myList = [3,5,1,19,11,22]\n",
    "myHeap = []\n",
    "for val in myList:\n",
    "    insert(myHeap, val)\n",
    "\n",
    "print(myHeap)"
   ]
  },
  {
   "cell_type": "code",
   "execution_count": 5,
   "metadata": {},
   "outputs": [
    {
     "name": "stdout",
     "output_type": "stream",
     "text": [
      "[88, 11, 22, 3, 5, 1, 19]\n"
     ]
    }
   ],
   "source": [
    "insert(myHeap, 88)\n",
    "print(myHeap)"
   ]
  },
  {
   "cell_type": "code",
   "execution_count": 6,
   "metadata": {},
   "outputs": [],
   "source": [
    "def removeRoot(heap): # assuming heap is a max-heap\n",
    "    if len(heap) > 0:\n",
    "        temp = heap[0]\n",
    "        heap[0] = heap[-1]\n",
    "        heap[-1] = temp\n",
    "        maxElem = heap.pop()\n",
    "\n",
    "        current_idx = 0\n",
    "        check = True\n",
    "        while check:\n",
    "            check = False\n",
    "            left = 2 * current_idx + 1\n",
    "            right = 2 * current_idx + 2\n",
    "            if left < len(heap) and heap[left] > heap[current_idx]:\n",
    "                check = True\n",
    "                larger = left\n",
    "            if right < len(heap) and heap[right] > heap[current_idx] and heap[right] > heap[left]:\n",
    "                check = True\n",
    "                larger = right\n",
    "            if check:\n",
    "                temp = heap[current_idx]\n",
    "                heap[current_idx] = heap[larger]\n",
    "                heap[larger] = temp\n",
    "\n",
    "                current_idx = larger\n",
    "        return maxElem\n",
    "    else:\n",
    "        return None\n"
   ]
  },
  {
   "cell_type": "code",
   "execution_count": 7,
   "metadata": {},
   "outputs": [
    {
     "name": "stdout",
     "output_type": "stream",
     "text": [
      "62\n",
      "[59, 42, 44, 31, 39, 30, 13, 22, 29, 14, 33, 9, 17]\n"
     ]
    }
   ],
   "source": [
    "myHeap = [62, 42, 59, 31, 39, 44, 13, 22, 29, 14, 33, 30, 17, 9]\n",
    "maxElem = removeRoot(myHeap)\n",
    "print(maxElem)\n",
    "print(myHeap)"
   ]
  },
  {
   "cell_type": "code",
   "execution_count": 8,
   "metadata": {},
   "outputs": [],
   "source": [
    "import heapq"
   ]
  },
  {
   "cell_type": "code",
   "execution_count": null,
   "metadata": {},
   "outputs": [
    {
     "name": "stdout",
     "output_type": "stream",
     "text": [
      "[1, 5, 3, 19, 11, 22]\n"
     ]
    }
   ],
   "source": [
    "myList = [3,5,1,19,11,22]\n",
    "heapq.heapify(myList) # min-heap -> O(n)\n",
    "print(myList)"
   ]
  },
  {
   "cell_type": "code",
   "execution_count": 10,
   "metadata": {},
   "outputs": [
    {
     "name": "stdout",
     "output_type": "stream",
     "text": [
      "[1, 5, 3, 19, 11, 22, 15]\n"
     ]
    }
   ],
   "source": [
    "heapq.heappush(myList, 15)\n",
    "print(myList)"
   ]
  },
  {
   "cell_type": "code",
   "execution_count": 11,
   "metadata": {},
   "outputs": [
    {
     "name": "stdout",
     "output_type": "stream",
     "text": [
      "[1, 4, 3, 5, 11, 22, 15, 19]\n"
     ]
    }
   ],
   "source": [
    "heapq.heappush(myList, 4)\n",
    "print(myList)"
   ]
  },
  {
   "cell_type": "code",
   "execution_count": 12,
   "metadata": {},
   "outputs": [
    {
     "name": "stdout",
     "output_type": "stream",
     "text": [
      "1\n",
      "[3, 4, 15, 5, 11, 22, 19]\n"
     ]
    }
   ],
   "source": [
    "root = heapq.heappop(myList)\n",
    "print(root)\n",
    "print(myList)"
   ]
  },
  {
   "cell_type": "code",
   "execution_count": 13,
   "metadata": {},
   "outputs": [
    {
     "data": {
      "text/plain": [
       "[3, 4, 5]"
      ]
     },
     "execution_count": 13,
     "metadata": {},
     "output_type": "execute_result"
    }
   ],
   "source": [
    "heapq.nsmallest(3, myList)"
   ]
  },
  {
   "cell_type": "code",
   "execution_count": null,
   "metadata": {},
   "outputs": [],
   "source": [
    "\"\"\"\n",
    "O(n log n) -> sorting\n",
    "O(n) + k*O(logn) -> \n",
    "\"\"\""
   ]
  },
  {
   "cell_type": "code",
   "execution_count": null,
   "metadata": {},
   "outputs": [],
   "source": [
    "def heapSort(numbers): # O(n) + O(n logn) -> O(n logn)\n",
    "    heap = []\n",
    "    for val in numbers: # heapify -> O(n)\n",
    "        insert(heap, val)\n",
    "    \n",
    "    sorted_list = [0] * len(numbers)\n",
    "    idx = len(sorted_list) - 1\n",
    "    for i in range(len(numbers)): # n times\n",
    "        maxElem = removeRoot(heap) # O(logn)\n",
    "        sorted_list[idx] = maxElem\n",
    "        idx -= 1\n",
    "    return sorted_list"
   ]
  },
  {
   "cell_type": "code",
   "execution_count": 17,
   "metadata": {},
   "outputs": [],
   "source": [
    "def heapSortwithHeapq(numbers):\n",
    "    heapq.heapify(numbers)\n",
    "    return heapq.nsmallest(len(numbers), numbers)"
   ]
  },
  {
   "cell_type": "code",
   "execution_count": 16,
   "metadata": {},
   "outputs": [
    {
     "data": {
      "text/plain": [
       "[15, 21, 52, 61, 72, 75, 75, 83, 87, 93]"
      ]
     },
     "execution_count": 16,
     "metadata": {},
     "output_type": "execute_result"
    }
   ],
   "source": [
    "np.random.seed(42)\n",
    "myList = np.random.randint(1, 100, 10)\n",
    "heapSort(myList)"
   ]
  },
  {
   "cell_type": "code",
   "execution_count": 19,
   "metadata": {},
   "outputs": [
    {
     "data": {
      "text/plain": [
       "[15, 21, 52, 61, 72, 75, 75, 83, 87, 93]"
      ]
     },
     "execution_count": 19,
     "metadata": {},
     "output_type": "execute_result"
    }
   ],
   "source": [
    "np.random.seed(42)\n",
    "myList = np.random.randint(1, 100, 10)\n",
    "heapSortwithHeapq(myList.tolist())"
   ]
  },
  {
   "cell_type": "markdown",
   "metadata": {},
   "source": [
    "# Q1"
   ]
  },
  {
   "cell_type": "code",
   "execution_count": 14,
   "metadata": {},
   "outputs": [],
   "source": [
    "import heapq\n",
    "import time\n",
    "import numpy as np"
   ]
  },
  {
   "cell_type": "code",
   "execution_count": null,
   "metadata": {},
   "outputs": [],
   "source": [
    "def find_kth_largest_v1(nums, k):# O(n logn)\n",
    "    sorted_nums = sorted(nums) # O(n logn)\n",
    "    return sorted_nums[-k]"
   ]
  },
  {
   "cell_type": "code",
   "execution_count": 2,
   "metadata": {},
   "outputs": [
    {
     "data": {
      "text/plain": [
       "11"
      ]
     },
     "execution_count": 2,
     "metadata": {},
     "output_type": "execute_result"
    }
   ],
   "source": [
    "myList = [10, 4, 15, 25, 7, 11]\n",
    "find_kth_largest_v1(myList, 3)"
   ]
  },
  {
   "cell_type": "code",
   "execution_count": null,
   "metadata": {},
   "outputs": [],
   "source": [
    "def find_kth_largest_v2(nums, k): # O(n log k)\n",
    "    res = heapq.nlargest(k, nums)[-1]\n",
    "    return res"
   ]
  },
  {
   "cell_type": "code",
   "execution_count": 7,
   "metadata": {},
   "outputs": [
    {
     "data": {
      "text/plain": [
       "11"
      ]
     },
     "execution_count": 7,
     "metadata": {},
     "output_type": "execute_result"
    }
   ],
   "source": [
    "find_kth_largest_v2(myList, 3)"
   ]
  },
  {
   "cell_type": "code",
   "execution_count": null,
   "metadata": {},
   "outputs": [],
   "source": [
    "def find_kth_largest_v3(nums, k): # O(n log k) -> k << n\n",
    "    minHeap = []\n",
    "    for val in nums: # n\n",
    "        heapq.heappush(minHeap, val)\n",
    "        if len(minHeap) > k:\n",
    "            elem = heapq.heappop(minHeap) # log (k+1)\n",
    "    return minHeap[0]"
   ]
  },
  {
   "cell_type": "code",
   "execution_count": 9,
   "metadata": {},
   "outputs": [
    {
     "data": {
      "text/plain": [
       "11"
      ]
     },
     "execution_count": 9,
     "metadata": {},
     "output_type": "execute_result"
    }
   ],
   "source": [
    "find_kth_largest_v3(myList, 3)"
   ]
  },
  {
   "cell_type": "code",
   "execution_count": null,
   "metadata": {},
   "outputs": [],
   "source": [
    "def find_kth_largest_v4(nums, k): # O(n) + O(k logn)\n",
    "    maxHeap = []\n",
    "    for val in nums: # O(n)\n",
    "        heapq.heappush(maxHeap, -val)\n",
    "    \n",
    "    for i in range(k): # k\n",
    "        if len(maxHeap) > 0:\n",
    "            elem = heapq.heappop(maxHeap) # O(log n)\n",
    "    return -elem"
   ]
  },
  {
   "cell_type": "code",
   "execution_count": 11,
   "metadata": {},
   "outputs": [
    {
     "data": {
      "text/plain": [
       "11"
      ]
     },
     "execution_count": 11,
     "metadata": {},
     "output_type": "execute_result"
    }
   ],
   "source": [
    "find_kth_largest_v4(myList, 3)"
   ]
  },
  {
   "cell_type": "code",
   "execution_count": 18,
   "metadata": {},
   "outputs": [
    {
     "name": "stdout",
     "output_type": "stream",
     "text": [
      "99999992\n",
      "23.21567177772522\n"
     ]
    }
   ],
   "source": [
    "n = 50000000\n",
    "np.random.seed(42)\n",
    "myList = np.random.randint(1, 100000000, n)\n",
    "k = 5\n",
    "\n",
    "start = time.time()\n",
    "res = find_kth_largest_v1(myList, k)\n",
    "end = time.time()\n",
    "print(res)\n",
    "print(end-start)"
   ]
  },
  {
   "cell_type": "code",
   "execution_count": 19,
   "metadata": {},
   "outputs": [
    {
     "name": "stdout",
     "output_type": "stream",
     "text": [
      "99999992\n",
      "1.5108530521392822\n"
     ]
    }
   ],
   "source": [
    "start = time.time()\n",
    "res = find_kth_largest_v2(myList, k)\n",
    "end = time.time()\n",
    "print(res)\n",
    "print(end-start)"
   ]
  },
  {
   "cell_type": "code",
   "execution_count": 20,
   "metadata": {},
   "outputs": [
    {
     "name": "stdout",
     "output_type": "stream",
     "text": [
      "99999992\n",
      "5.512120962142944\n"
     ]
    }
   ],
   "source": [
    "start = time.time()\n",
    "res = find_kth_largest_v3(myList, k)\n",
    "end = time.time()\n",
    "print(res)\n",
    "print(end-start)"
   ]
  },
  {
   "cell_type": "code",
   "execution_count": 21,
   "metadata": {},
   "outputs": [
    {
     "name": "stdout",
     "output_type": "stream",
     "text": [
      "99999992\n",
      "4.406482219696045\n"
     ]
    }
   ],
   "source": [
    "start = time.time()\n",
    "res = find_kth_largest_v4(myList, k)\n",
    "end = time.time()\n",
    "print(res)\n",
    "print(end-start)"
   ]
  },
  {
   "cell_type": "markdown",
   "metadata": {},
   "source": [
    "# Q2"
   ]
  },
  {
   "cell_type": "code",
   "execution_count": 22,
   "metadata": {},
   "outputs": [],
   "source": [
    "nums = [6, 5, 3, 2, 8, 10, 9]\n",
    "k = 3"
   ]
  },
  {
   "cell_type": "code",
   "execution_count": null,
   "metadata": {},
   "outputs": [],
   "source": [
    "def sortAlmostSortedArr(almostSortedArr, k): # O(n log k) + O(k logk) -> O(n logk)\n",
    "    res = []\n",
    "    heap = []\n",
    "    for val in almostSortedArr: # n\n",
    "        heapq.heappush(heap, val)\n",
    "        if len(heap) > k:\n",
    "            minElem = heapq.heappop(heap) # log(k+1)\n",
    "            res.append(minElem)\n",
    "    \n",
    "    while len(heap) > 0: # k\n",
    "        minElem = heapq.heappop(heap) # log(k)\n",
    "        res.append(minElem)\n",
    "    return res"
   ]
  },
  {
   "cell_type": "code",
   "execution_count": 24,
   "metadata": {},
   "outputs": [
    {
     "data": {
      "text/plain": [
       "[2, 3, 5, 6, 8, 9, 10]"
      ]
     },
     "execution_count": 24,
     "metadata": {},
     "output_type": "execute_result"
    }
   ],
   "source": [
    "sortAlmostSortedArr(nums, k)"
   ]
  },
  {
   "cell_type": "code",
   "execution_count": null,
   "metadata": {},
   "outputs": [],
   "source": []
  }
 ],
 "metadata": {
  "kernelspec": {
   "display_name": "DSA201",
   "language": "python",
   "name": "python3"
  },
  "language_info": {
   "codemirror_mode": {
    "name": "ipython",
    "version": 3
   },
   "file_extension": ".py",
   "mimetype": "text/x-python",
   "name": "python",
   "nbconvert_exporter": "python",
   "pygments_lexer": "ipython3",
   "version": "3.12.4"
  }
 },
 "nbformat": 4,
 "nbformat_minor": 2
}
