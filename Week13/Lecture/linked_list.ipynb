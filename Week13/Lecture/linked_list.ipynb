{
 "cells": [
  {
   "cell_type": "code",
   "execution_count": 9,
   "metadata": {},
   "outputs": [],
   "source": [
    "class Node:\n",
    "    def __init__(self, data):\n",
    "        self.data = data\n",
    "        self.next = None\n",
    "    \n",
    "    def __str__(self):\n",
    "        return \"Node with value \" + str(self.data)"
   ]
  },
  {
   "cell_type": "code",
   "execution_count": 10,
   "metadata": {},
   "outputs": [],
   "source": [
    "node1 = Node(10)\n",
    "node2 = Node(15)\n",
    "node3 = Node(20)"
   ]
  },
  {
   "cell_type": "code",
   "execution_count": 11,
   "metadata": {},
   "outputs": [
    {
     "name": "stdout",
     "output_type": "stream",
     "text": [
      "10\n",
      "None\n"
     ]
    }
   ],
   "source": [
    "print(node1.data)\n",
    "print(node1.next)"
   ]
  },
  {
   "cell_type": "code",
   "execution_count": 13,
   "metadata": {},
   "outputs": [
    {
     "name": "stdout",
     "output_type": "stream",
     "text": [
      "15\n",
      "20\n",
      "Node with value 20\n",
      "None\n"
     ]
    }
   ],
   "source": [
    "node1.next = node2\n",
    "node2.next = node3\n",
    "print(node1.next.data)\n",
    "print(node1.next.next.data)\n",
    "print(node1.next.next)\n",
    "print(node3.next)"
   ]
  },
  {
   "cell_type": "code",
   "execution_count": 46,
   "metadata": {},
   "outputs": [],
   "source": [
    "class LinkedList:\n",
    "    def __init__(self):\n",
    "        self.head = None\n",
    "    \n",
    "    def append(self, val): # O(n)\n",
    "        newNode = Node(val)\n",
    "        if self.head == None:\n",
    "            self.head = newNode\n",
    "        else:\n",
    "            cur = self.head\n",
    "            while cur.next != None:\n",
    "                cur = cur.next\n",
    "            cur.next = newNode\n",
    "    \n",
    "    def addFirst(self, val): # O(1)\n",
    "        newNode = Node(val)\n",
    "        if self.head == None:\n",
    "            self.head = newNode\n",
    "        else:\n",
    "            temp = self.head\n",
    "            self.head = newNode\n",
    "            #self.head.next = temp\n",
    "            newNode.next = temp\n",
    "    \n",
    "    def addSpecificIndex(self, idx, val):\n",
    "        if idx < 0:\n",
    "            print(\"Index cannot be negative!\")\n",
    "            return\n",
    "        if idx == 0:\n",
    "            self.addFirst(val)\n",
    "        else:\n",
    "            cur = self.head\n",
    "            cur_idx = 0\n",
    "            while cur_idx != idx-1:\n",
    "                if cur == None:\n",
    "                    print(\"Index out of range\")\n",
    "                    return\n",
    "                cur = cur.next\n",
    "                cur_idx += 1\n",
    "            if cur == None:\n",
    "                print(\"Index out of range\")\n",
    "                return\n",
    "            newNode = Node(val)\n",
    "            upcoming = cur.next\n",
    "            cur.next = newNode\n",
    "            newNode.next = upcoming\n",
    "\n",
    "    def removeFromBeginning(self):\n",
    "        if self.head == None: # if linked list is empty\n",
    "            print(\"Linked List is Empty\")\n",
    "            return\n",
    "        temp = self.head\n",
    "        self.head = self.head.next\n",
    "        del temp\n",
    "\n",
    "    def printLinkedList(self):\n",
    "        cur = self.head\n",
    "        if cur == None:\n",
    "            print(\"Empty Linked List\")\n",
    "        else:\n",
    "            while cur != None:\n",
    "                print(cur.data, end=\" -> \")\n",
    "                cur = cur.next \n",
    "            print(\"None\")"
   ]
  },
  {
   "cell_type": "code",
   "execution_count": 47,
   "metadata": {},
   "outputs": [
    {
     "name": "stdout",
     "output_type": "stream",
     "text": [
      "5 -> None\n",
      "5 -> 10 -> None\n",
      "5 -> 10 -> 12 -> 8 -> 16 -> None\n",
      "25 -> 5 -> 10 -> 12 -> 8 -> 16 -> None\n",
      "25 -> 5 -> 7 -> 10 -> 12 -> 8 -> 16 -> None\n",
      "17 -> 25 -> 5 -> 7 -> 10 -> 12 -> 8 -> 16 -> None\n",
      "17 -> 25 -> 5 -> 7 -> 10 -> 12 -> 8 -> 16 -> 100 -> None\n",
      "Index out of range\n",
      "17 -> 25 -> 5 -> 7 -> 10 -> 12 -> 8 -> 16 -> 100 -> None\n",
      "25 -> 5 -> 7 -> 10 -> 12 -> 8 -> 16 -> 100 -> None\n"
     ]
    }
   ],
   "source": [
    "myLinkedList = LinkedList()\n",
    "myLinkedList.addFirst(5)\n",
    "myLinkedList.printLinkedList()\n",
    "myLinkedList.append(10)\n",
    "myLinkedList.printLinkedList()\n",
    "myLinkedList.append(12)\n",
    "myLinkedList.append(8)\n",
    "myLinkedList.append(16)\n",
    "myLinkedList.printLinkedList()\n",
    "myLinkedList.addFirst(25)\n",
    "myLinkedList.printLinkedList()\n",
    "myLinkedList.addSpecificIndex(2, 7)\n",
    "myLinkedList.printLinkedList()\n",
    "myLinkedList.addSpecificIndex(0, 17)\n",
    "myLinkedList.printLinkedList()\n",
    "myLinkedList.addSpecificIndex(8, 100)\n",
    "myLinkedList.printLinkedList()\n",
    "myLinkedList.addSpecificIndex(10, 101)\n",
    "myLinkedList.printLinkedList()\n",
    "myLinkedList.removeFromBeginning()\n",
    "myLinkedList.printLinkedList()"
   ]
  },
  {
   "cell_type": "code",
   "execution_count": null,
   "metadata": {},
   "outputs": [],
   "source": []
  }
 ],
 "metadata": {
  "kernelspec": {
   "display_name": "DSA201",
   "language": "python",
   "name": "python3"
  },
  "language_info": {
   "codemirror_mode": {
    "name": "ipython",
    "version": 3
   },
   "file_extension": ".py",
   "mimetype": "text/x-python",
   "name": "python",
   "nbconvert_exporter": "python",
   "pygments_lexer": "ipython3",
   "version": "3.12.4"
  }
 },
 "nbformat": 4,
 "nbformat_minor": 2
}
