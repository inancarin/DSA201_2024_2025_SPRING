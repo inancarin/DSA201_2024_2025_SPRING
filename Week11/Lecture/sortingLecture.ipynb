{
 "cells": [
  {
   "cell_type": "code",
   "execution_count": 18,
   "metadata": {},
   "outputs": [],
   "source": [
    "import numpy as np\n",
    "import matplotlib.pyplot as plt\n",
    "import time"
   ]
  },
  {
   "cell_type": "code",
   "execution_count": 3,
   "metadata": {},
   "outputs": [
    {
     "name": "stdout",
     "output_type": "stream",
     "text": [
      "5 3\n"
     ]
    }
   ],
   "source": [
    "a = 3\n",
    "b = 5\n",
    "temp = a\n",
    "a = b\n",
    "b = temp\n",
    "print(a, b)"
   ]
  },
  {
   "cell_type": "code",
   "execution_count": 5,
   "metadata": {},
   "outputs": [],
   "source": [
    "def swapValues(arr, i, j):\n",
    "    temp = arr[i]\n",
    "    arr[i] = arr[j]\n",
    "    arr[j] = temp"
   ]
  },
  {
   "cell_type": "code",
   "execution_count": 6,
   "metadata": {},
   "outputs": [],
   "source": [
    "def SelectionSort(arr):\n",
    "    for i in range(0, len(arr)-1):\n",
    "        minIndex = i\n",
    "        for j in range(i+1, len(arr)):\n",
    "            if arr[j] < arr[minIndex]:\n",
    "                minIndex = j\n",
    "        swapValues(arr, i, minIndex)"
   ]
  },
  {
   "cell_type": "code",
   "execution_count": 17,
   "metadata": {},
   "outputs": [
    {
     "name": "stdout",
     "output_type": "stream",
     "text": [
      "Unsorted: [52 93 15 72 61 21 83 87 75 75]\n",
      "Sorted: [15 21 52 61 72 75 75 83 87 93]\n"
     ]
    }
   ],
   "source": [
    "np.random.seed(42)\n",
    "myArr = np.random.randint(1, 100, 10)\n",
    "print(\"Unsorted:\", myArr)\n",
    "SelectionSort(myArr)\n",
    "print(\"Sorted:\", myArr)"
   ]
  },
  {
   "cell_type": "code",
   "execution_count": 20,
   "metadata": {},
   "outputs": [
    {
     "name": "stdout",
     "output_type": "stream",
     "text": [
      "Selection Sort takes 4.669983148574829 seconds when n is 10000\n",
      "Selection Sort takes 18.167916774749756 seconds when n is 20000\n"
     ]
    }
   ],
   "source": [
    "n = 10000\n",
    "np.random.seed(42)\n",
    "myArr = np.random.randint(1, 1000000, n)\n",
    "\n",
    "start = time.time()\n",
    "SelectionSort(myArr)\n",
    "end = time.time()\n",
    "diff = end - start\n",
    "print(\"Selection Sort takes\", diff, \"seconds when n is\", n)\n",
    "\n",
    "n = 20000\n",
    "np.random.seed(42)\n",
    "myArr = np.random.randint(1, 1000000, n)\n",
    "\n",
    "start = time.time()\n",
    "SelectionSort(myArr)\n",
    "end = time.time()\n",
    "diff = end - start\n",
    "print(\"Selection Sort takes\", diff, \"seconds when n is\", n)"
   ]
  },
  {
   "cell_type": "code",
   "execution_count": null,
   "metadata": {},
   "outputs": [],
   "source": [
    "def BubbleSort(arr):\n",
    "    for i in range(0, len(arr)-1):\n",
    "        for j in range(0, len(arr)-i-1):\n",
    "            if arr[j] > arr[j+1]:\n",
    "                swapValues(arr, j, j+1)"
   ]
  },
  {
   "cell_type": "code",
   "execution_count": 24,
   "metadata": {},
   "outputs": [],
   "source": [
    "def ModifiedBubbleSort(arr):\n",
    "    for i in range(0, len(arr)-1):\n",
    "        isOrdered = True\n",
    "        for j in range(0, len(arr)-i-1):\n",
    "            if arr[j] > arr[j+1]:\n",
    "                swapValues(arr, j, j+1)\n",
    "                isOrdered = False\n",
    "        if isOrdered:\n",
    "            break"
   ]
  },
  {
   "cell_type": "code",
   "execution_count": 22,
   "metadata": {},
   "outputs": [
    {
     "name": "stdout",
     "output_type": "stream",
     "text": [
      "Unsorted: [52 93 15 72 61 21 83 87 75 75]\n",
      "Sorted: [15 21 52 61 72 75 75 83 87 93]\n"
     ]
    }
   ],
   "source": [
    "np.random.seed(42)\n",
    "myArr = np.random.randint(1, 100, 10)\n",
    "print(\"Unsorted:\", myArr)\n",
    "BubbleSort(myArr)\n",
    "print(\"Sorted:\", myArr)"
   ]
  },
  {
   "cell_type": "code",
   "execution_count": 23,
   "metadata": {},
   "outputs": [
    {
     "name": "stdout",
     "output_type": "stream",
     "text": [
      "BubbleSort takes 9.267621755599976 seconds when n is 10000\n",
      "BubbleSort takes 35.653671979904175 seconds when n is 20000\n"
     ]
    }
   ],
   "source": [
    "n = 10000\n",
    "np.random.seed(42)\n",
    "myArr = np.random.randint(1, 1000000, n)\n",
    "\n",
    "start = time.time()\n",
    "BubbleSort(myArr)\n",
    "end = time.time()\n",
    "diff = end - start\n",
    "print(\"BubbleSort takes\", diff, \"seconds when n is\", n)\n",
    "\n",
    "n = 20000\n",
    "np.random.seed(42)\n",
    "myArr = np.random.randint(1, 1000000, n)\n",
    "\n",
    "start = time.time()\n",
    "BubbleSort(myArr)\n",
    "end = time.time()\n",
    "diff = end - start\n",
    "print(\"BubbleSort takes\", diff, \"seconds when n is\", n)"
   ]
  },
  {
   "cell_type": "code",
   "execution_count": 25,
   "metadata": {},
   "outputs": [
    {
     "name": "stdout",
     "output_type": "stream",
     "text": [
      "BubbleSort takes 9.187855243682861 seconds when n is 10000\n",
      "Modified BubbleSort takes 9.284433841705322 seconds when n is 10000\n"
     ]
    }
   ],
   "source": [
    "n = 10000\n",
    "np.random.seed(42)\n",
    "myArr = np.random.randint(1, 1000000, n)\n",
    "\n",
    "start = time.time()\n",
    "BubbleSort(myArr)\n",
    "end = time.time()\n",
    "diff = end - start\n",
    "print(\"BubbleSort takes\", diff, \"seconds when n is\", n)\n",
    "\n",
    "\n",
    "n = 10000\n",
    "np.random.seed(42)\n",
    "myArr = np.random.randint(1, 1000000, n)\n",
    "\n",
    "start = time.time()\n",
    "ModifiedBubbleSort(myArr)\n",
    "end = time.time()\n",
    "diff = end - start\n",
    "print(\"Modified BubbleSort takes\", diff, \"seconds when n is\", n)"
   ]
  },
  {
   "cell_type": "code",
   "execution_count": 26,
   "metadata": {},
   "outputs": [
    {
     "name": "stdout",
     "output_type": "stream",
     "text": [
      "BubbleSort takes 4.857100963592529 seconds when n is 10000\n",
      "Modified BubbleSort takes 0.0009660720825195312 seconds when n is 10000\n"
     ]
    }
   ],
   "source": [
    "n = 10000\n",
    "myArr = np.arange(1, n)\n",
    "\n",
    "start = time.time()\n",
    "BubbleSort(myArr)\n",
    "end = time.time()\n",
    "diff = end - start\n",
    "print(\"BubbleSort takes\", diff, \"seconds when n is\", n)\n",
    "\n",
    "\n",
    "n = 10000\n",
    "myArr = np.arange(1, n)\n",
    "\n",
    "start = time.time()\n",
    "ModifiedBubbleSort(myArr)\n",
    "end = time.time()\n",
    "diff = end - start\n",
    "print(\"Modified BubbleSort takes\", diff, \"seconds when n is\", n)"
   ]
  },
  {
   "cell_type": "code",
   "execution_count": null,
   "metadata": {},
   "outputs": [],
   "source": [
    "def MergeTwoSortedLists(list1, list2): # O(m + n)\n",
    "    newSortedList = []\n",
    "    idx1, idx2 = 0, 0\n",
    "    while idx1 < len(list1) and idx2 < len(list2):\n",
    "        if list1[idx1] < list2[idx2]:\n",
    "            newSortedList.append(list1[idx1])\n",
    "            idx1 += 1\n",
    "        else:\n",
    "            newSortedList.append(list2[idx2])\n",
    "            idx2 += 1\n",
    "    \n",
    "    while idx1 < len(list1):\n",
    "        newSortedList.append(list1[idx1])\n",
    "        idx1 += 1\n",
    "    \n",
    "    while idx2 < len(list2):\n",
    "        newSortedList.append(list2[idx2])\n",
    "        idx2 += 1\n",
    "    \n",
    "    return newSortedList"
   ]
  },
  {
   "cell_type": "code",
   "execution_count": 31,
   "metadata": {},
   "outputs": [
    {
     "data": {
      "text/plain": [
       "[1, 5, 7, 8, 9, 10, 11]"
      ]
     },
     "execution_count": 31,
     "metadata": {},
     "output_type": "execute_result"
    }
   ],
   "source": [
    "MergeTwoSortedLists([1,5,8], [7,9, 10, 11])"
   ]
  },
  {
   "cell_type": "code",
   "execution_count": 32,
   "metadata": {},
   "outputs": [],
   "source": [
    "def MergeSort(arr):\n",
    "    if len(arr) == 1:\n",
    "        return arr\n",
    "    middleIndex = len(arr) // 2\n",
    "    unsorted_left = arr[:middleIndex]\n",
    "    unsorted_right = arr[middleIndex:]\n",
    "    sorted_left = MergeSort(unsorted_left)\n",
    "    sorted_right = MergeSort(unsorted_right)\n",
    "    sorted_list = MergeTwoSortedLists(sorted_left, sorted_right)\n",
    "    return sorted_list"
   ]
  },
  {
   "cell_type": "code",
   "execution_count": 33,
   "metadata": {},
   "outputs": [
    {
     "name": "stdout",
     "output_type": "stream",
     "text": [
      "Unsorted: [52 93 15 72 61 21 83 87 75 75]\n",
      "Sorted: [15, 21, 52, 61, 72, 75, 75, 83, 87, 93]\n"
     ]
    }
   ],
   "source": [
    "np.random.seed(42)\n",
    "myArr = np.random.randint(1, 100, 10)\n",
    "print(\"Unsorted:\", myArr)\n",
    "myArr = MergeSort(myArr)\n",
    "print(\"Sorted:\", myArr)"
   ]
  },
  {
   "cell_type": "code",
   "execution_count": 52,
   "metadata": {},
   "outputs": [],
   "source": [
    "def QuickSort(arr, i, j):\n",
    "    if i < j:\n",
    "        pivot_idx = np.random.randint(i, j+1)\n",
    "        swapValues(arr, pivot_idx, j)\n",
    "        left, right = i, j-1\n",
    "        while left <= right:\n",
    "            while arr[left] <= arr[j] and left <= right:\n",
    "                left += 1\n",
    "            while arr[right] >= arr[j] and left <= right:\n",
    "                right -= 1\n",
    "            if left < right:\n",
    "                swapValues(arr, left, right)\n",
    "        swapValues(arr, left, j)\n",
    "        QuickSort(arr, i, left-1)\n",
    "        QuickSort(arr, left+1, j)"
   ]
  },
  {
   "cell_type": "code",
   "execution_count": 53,
   "metadata": {},
   "outputs": [
    {
     "name": "stdout",
     "output_type": "stream",
     "text": [
      "Unsorted: [52 93 15 72 61 21 83 87 75 75]\n",
      "Sorted: [15 21 52 61 72 75 75 83 87 93]\n"
     ]
    }
   ],
   "source": [
    "np.random.seed(42)\n",
    "myArr = np.random.randint(1, 100, 10)\n",
    "print(\"Unsorted:\", myArr)\n",
    "QuickSort(myArr, 0, len(myArr)-1)\n",
    "print(\"Sorted:\", myArr)"
   ]
  },
  {
   "cell_type": "code",
   "execution_count": null,
   "metadata": {},
   "outputs": [],
   "source": []
  }
 ],
 "metadata": {
  "kernelspec": {
   "display_name": "DSA201",
   "language": "python",
   "name": "python3"
  },
  "language_info": {
   "codemirror_mode": {
    "name": "ipython",
    "version": 3
   },
   "file_extension": ".py",
   "mimetype": "text/x-python",
   "name": "python",
   "nbconvert_exporter": "python",
   "pygments_lexer": "ipython3",
   "version": "3.12.4"
  }
 },
 "nbformat": 4,
 "nbformat_minor": 2
}
