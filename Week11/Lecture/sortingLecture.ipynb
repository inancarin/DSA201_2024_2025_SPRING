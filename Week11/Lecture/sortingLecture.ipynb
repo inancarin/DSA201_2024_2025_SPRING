{
 "cells": [
  {
   "cell_type": "code",
   "execution_count": 1,
   "metadata": {},
   "outputs": [],
   "source": [
    "import numpy as np\n",
    "import matplotlib.pyplot as plt\n",
    "import time"
   ]
  },
  {
   "cell_type": "code",
   "execution_count": 3,
   "metadata": {},
   "outputs": [
    {
     "name": "stdout",
     "output_type": "stream",
     "text": [
      "5 3\n"
     ]
    }
   ],
   "source": [
    "a = 3\n",
    "b = 5\n",
    "temp = a\n",
    "a = b\n",
    "b = temp\n",
    "print(a, b)"
   ]
  },
  {
   "cell_type": "code",
   "execution_count": 2,
   "metadata": {},
   "outputs": [],
   "source": [
    "def swapValues(arr, i, j):\n",
    "    temp = arr[i]\n",
    "    arr[i] = arr[j]\n",
    "    arr[j] = temp"
   ]
  },
  {
   "cell_type": "code",
   "execution_count": 3,
   "metadata": {},
   "outputs": [],
   "source": [
    "def SelectionSort(arr):\n",
    "    for i in range(0, len(arr)-1):\n",
    "        minIndex = i\n",
    "        for j in range(i+1, len(arr)):\n",
    "            if arr[j] < arr[minIndex]:\n",
    "                minIndex = j\n",
    "        swapValues(arr, i, minIndex)"
   ]
  },
  {
   "cell_type": "code",
   "execution_count": 17,
   "metadata": {},
   "outputs": [
    {
     "name": "stdout",
     "output_type": "stream",
     "text": [
      "Unsorted: [52 93 15 72 61 21 83 87 75 75]\n",
      "Sorted: [15 21 52 61 72 75 75 83 87 93]\n"
     ]
    }
   ],
   "source": [
    "np.random.seed(42)\n",
    "myArr = np.random.randint(1, 100, 10)\n",
    "print(\"Unsorted:\", myArr)\n",
    "SelectionSort(myArr)\n",
    "print(\"Sorted:\", myArr)"
   ]
  },
  {
   "cell_type": "code",
   "execution_count": 20,
   "metadata": {},
   "outputs": [
    {
     "name": "stdout",
     "output_type": "stream",
     "text": [
      "Selection Sort takes 4.669983148574829 seconds when n is 10000\n",
      "Selection Sort takes 18.167916774749756 seconds when n is 20000\n"
     ]
    }
   ],
   "source": [
    "n = 10000\n",
    "np.random.seed(42)\n",
    "myArr = np.random.randint(1, 1000000, n)\n",
    "\n",
    "start = time.time()\n",
    "SelectionSort(myArr)\n",
    "end = time.time()\n",
    "diff = end - start\n",
    "print(\"Selection Sort takes\", diff, \"seconds when n is\", n)\n",
    "\n",
    "n = 20000\n",
    "np.random.seed(42)\n",
    "myArr = np.random.randint(1, 1000000, n)\n",
    "\n",
    "start = time.time()\n",
    "SelectionSort(myArr)\n",
    "end = time.time()\n",
    "diff = end - start\n",
    "print(\"Selection Sort takes\", diff, \"seconds when n is\", n)"
   ]
  },
  {
   "cell_type": "code",
   "execution_count": 4,
   "metadata": {},
   "outputs": [],
   "source": [
    "def BubbleSort(arr):\n",
    "    for i in range(0, len(arr)-1):\n",
    "        for j in range(0, len(arr)-i-1):\n",
    "            if arr[j] > arr[j+1]:\n",
    "                swapValues(arr, j, j+1)"
   ]
  },
  {
   "cell_type": "code",
   "execution_count": 5,
   "metadata": {},
   "outputs": [],
   "source": [
    "def ModifiedBubbleSort(arr):\n",
    "    for i in range(0, len(arr)-1):\n",
    "        isOrdered = True\n",
    "        for j in range(0, len(arr)-i-1):\n",
    "            if arr[j] > arr[j+1]:\n",
    "                swapValues(arr, j, j+1)\n",
    "                isOrdered = False\n",
    "        if isOrdered:\n",
    "            break"
   ]
  },
  {
   "cell_type": "code",
   "execution_count": 22,
   "metadata": {},
   "outputs": [
    {
     "name": "stdout",
     "output_type": "stream",
     "text": [
      "Unsorted: [52 93 15 72 61 21 83 87 75 75]\n",
      "Sorted: [15 21 52 61 72 75 75 83 87 93]\n"
     ]
    }
   ],
   "source": [
    "np.random.seed(42)\n",
    "myArr = np.random.randint(1, 100, 10)\n",
    "print(\"Unsorted:\", myArr)\n",
    "BubbleSort(myArr)\n",
    "print(\"Sorted:\", myArr)"
   ]
  },
  {
   "cell_type": "code",
   "execution_count": 23,
   "metadata": {},
   "outputs": [
    {
     "name": "stdout",
     "output_type": "stream",
     "text": [
      "BubbleSort takes 9.267621755599976 seconds when n is 10000\n",
      "BubbleSort takes 35.653671979904175 seconds when n is 20000\n"
     ]
    }
   ],
   "source": [
    "n = 10000\n",
    "np.random.seed(42)\n",
    "myArr = np.random.randint(1, 1000000, n)\n",
    "\n",
    "start = time.time()\n",
    "BubbleSort(myArr)\n",
    "end = time.time()\n",
    "diff = end - start\n",
    "print(\"BubbleSort takes\", diff, \"seconds when n is\", n)\n",
    "\n",
    "n = 20000\n",
    "np.random.seed(42)\n",
    "myArr = np.random.randint(1, 1000000, n)\n",
    "\n",
    "start = time.time()\n",
    "BubbleSort(myArr)\n",
    "end = time.time()\n",
    "diff = end - start\n",
    "print(\"BubbleSort takes\", diff, \"seconds when n is\", n)"
   ]
  },
  {
   "cell_type": "code",
   "execution_count": 25,
   "metadata": {},
   "outputs": [
    {
     "name": "stdout",
     "output_type": "stream",
     "text": [
      "BubbleSort takes 9.187855243682861 seconds when n is 10000\n",
      "Modified BubbleSort takes 9.284433841705322 seconds when n is 10000\n"
     ]
    }
   ],
   "source": [
    "n = 10000\n",
    "np.random.seed(42)\n",
    "myArr = np.random.randint(1, 1000000, n)\n",
    "\n",
    "start = time.time()\n",
    "BubbleSort(myArr)\n",
    "end = time.time()\n",
    "diff = end - start\n",
    "print(\"BubbleSort takes\", diff, \"seconds when n is\", n)\n",
    "\n",
    "\n",
    "n = 10000\n",
    "np.random.seed(42)\n",
    "myArr = np.random.randint(1, 1000000, n)\n",
    "\n",
    "start = time.time()\n",
    "ModifiedBubbleSort(myArr)\n",
    "end = time.time()\n",
    "diff = end - start\n",
    "print(\"Modified BubbleSort takes\", diff, \"seconds when n is\", n)"
   ]
  },
  {
   "cell_type": "code",
   "execution_count": 26,
   "metadata": {},
   "outputs": [
    {
     "name": "stdout",
     "output_type": "stream",
     "text": [
      "BubbleSort takes 4.857100963592529 seconds when n is 10000\n",
      "Modified BubbleSort takes 0.0009660720825195312 seconds when n is 10000\n"
     ]
    }
   ],
   "source": [
    "n = 10000\n",
    "myArr = np.arange(1, n)\n",
    "\n",
    "start = time.time()\n",
    "BubbleSort(myArr)\n",
    "end = time.time()\n",
    "diff = end - start\n",
    "print(\"BubbleSort takes\", diff, \"seconds when n is\", n)\n",
    "\n",
    "\n",
    "n = 10000\n",
    "myArr = np.arange(1, n)\n",
    "\n",
    "start = time.time()\n",
    "ModifiedBubbleSort(myArr)\n",
    "end = time.time()\n",
    "diff = end - start\n",
    "print(\"Modified BubbleSort takes\", diff, \"seconds when n is\", n)"
   ]
  },
  {
   "cell_type": "code",
   "execution_count": 6,
   "metadata": {},
   "outputs": [],
   "source": [
    "def MergeTwoSortedLists(list1, list2): # O(m + n)\n",
    "    newSortedList = []\n",
    "    idx1, idx2 = 0, 0\n",
    "    while idx1 < len(list1) and idx2 < len(list2):\n",
    "        if list1[idx1] < list2[idx2]:\n",
    "            newSortedList.append(list1[idx1])\n",
    "            idx1 += 1\n",
    "        else:\n",
    "            newSortedList.append(list2[idx2])\n",
    "            idx2 += 1\n",
    "    \n",
    "    while idx1 < len(list1):\n",
    "        newSortedList.append(list1[idx1])\n",
    "        idx1 += 1\n",
    "    \n",
    "    while idx2 < len(list2):\n",
    "        newSortedList.append(list2[idx2])\n",
    "        idx2 += 1\n",
    "    \n",
    "    return newSortedList"
   ]
  },
  {
   "cell_type": "code",
   "execution_count": 31,
   "metadata": {},
   "outputs": [
    {
     "data": {
      "text/plain": [
       "[1, 5, 7, 8, 9, 10, 11]"
      ]
     },
     "execution_count": 31,
     "metadata": {},
     "output_type": "execute_result"
    }
   ],
   "source": [
    "MergeTwoSortedLists([1,5,8], [7,9, 10, 11])"
   ]
  },
  {
   "cell_type": "code",
   "execution_count": 7,
   "metadata": {},
   "outputs": [],
   "source": [
    "def MergeSort(arr):\n",
    "    if len(arr) == 1:\n",
    "        return arr\n",
    "    middleIndex = len(arr) // 2\n",
    "    unsorted_left = arr[:middleIndex]\n",
    "    unsorted_right = arr[middleIndex:]\n",
    "    sorted_left = MergeSort(unsorted_left)\n",
    "    sorted_right = MergeSort(unsorted_right)\n",
    "    sorted_list = MergeTwoSortedLists(sorted_left, sorted_right)\n",
    "    return sorted_list"
   ]
  },
  {
   "cell_type": "code",
   "execution_count": 8,
   "metadata": {},
   "outputs": [
    {
     "name": "stdout",
     "output_type": "stream",
     "text": [
      "Unsorted: [52 93 15 72 61 21 83 87 75 75]\n",
      "Sorted: [15, 21, 52, 61, 72, 75, 75, 83, 87, 93]\n"
     ]
    }
   ],
   "source": [
    "np.random.seed(42)\n",
    "myArr = np.random.randint(1, 100, 10)\n",
    "print(\"Unsorted:\", myArr)\n",
    "myArr = MergeSort(myArr)\n",
    "print(\"Sorted:\", myArr)"
   ]
  },
  {
   "cell_type": "code",
   "execution_count": 9,
   "metadata": {},
   "outputs": [],
   "source": [
    "def QuickSort(arr, i, j):\n",
    "    if i < j:\n",
    "        pivot_idx = np.random.randint(i, j+1)\n",
    "        swapValues(arr, pivot_idx, j)\n",
    "        left, right = i, j-1\n",
    "        while left <= right:\n",
    "            while arr[left] <= arr[j] and left <= right:\n",
    "                left += 1\n",
    "            while arr[right] >= arr[j] and left <= right:\n",
    "                right -= 1\n",
    "            if left < right:\n",
    "                swapValues(arr, left, right)\n",
    "        swapValues(arr, left, j)\n",
    "        QuickSort(arr, i, left-1)\n",
    "        QuickSort(arr, left+1, j)"
   ]
  },
  {
   "cell_type": "code",
   "execution_count": 53,
   "metadata": {},
   "outputs": [
    {
     "name": "stdout",
     "output_type": "stream",
     "text": [
      "Unsorted: [52 93 15 72 61 21 83 87 75 75]\n",
      "Sorted: [15 21 52 61 72 75 75 83 87 93]\n"
     ]
    }
   ],
   "source": [
    "np.random.seed(42)\n",
    "myArr = np.random.randint(1, 100, 10)\n",
    "print(\"Unsorted:\", myArr)\n",
    "QuickSort(myArr, 0, len(myArr)-1)\n",
    "print(\"Sorted:\", myArr)"
   ]
  },
  {
   "cell_type": "code",
   "execution_count": 10,
   "metadata": {},
   "outputs": [
    {
     "data": {
      "text/plain": [
       "array([52, 93, 15, 72, 61, 21, 83, 87, 75, 75])"
      ]
     },
     "execution_count": 10,
     "metadata": {},
     "output_type": "execute_result"
    }
   ],
   "source": [
    "np.random.seed(42)\n",
    "myArr = np.random.randint(1, 100, 10)\n",
    "myArr"
   ]
  },
  {
   "cell_type": "code",
   "execution_count": 12,
   "metadata": {},
   "outputs": [
    {
     "data": {
      "text/plain": [
       "[15, 21, 52, 61, 72, 75, 75, 83, 87, 93]"
      ]
     },
     "execution_count": 12,
     "metadata": {},
     "output_type": "execute_result"
    }
   ],
   "source": [
    "sorted_array = sorted(myArr)\n",
    "sorted_array"
   ]
  },
  {
   "cell_type": "code",
   "execution_count": 13,
   "metadata": {},
   "outputs": [
    {
     "data": {
      "text/plain": [
       "array([52, 93, 15, 72, 61, 21, 83, 87, 75, 75])"
      ]
     },
     "execution_count": 13,
     "metadata": {},
     "output_type": "execute_result"
    }
   ],
   "source": [
    "myArr"
   ]
  },
  {
   "cell_type": "code",
   "execution_count": null,
   "metadata": {},
   "outputs": [
    {
     "data": {
      "text/plain": [
       "array([15, 21, 52, 61, 72, 75, 75, 83, 87, 93])"
      ]
     },
     "execution_count": 15,
     "metadata": {},
     "output_type": "execute_result"
    }
   ],
   "source": [
    "myArr.sort() # PowerSort() -> O(n logn)\n",
    "myArr"
   ]
  },
  {
   "cell_type": "code",
   "execution_count": 16,
   "metadata": {},
   "outputs": [
    {
     "data": {
      "text/plain": [
       "array([52, 93, 15, 72, 61, 21, 83, 87, 75, 75])"
      ]
     },
     "execution_count": 16,
     "metadata": {},
     "output_type": "execute_result"
    }
   ],
   "source": [
    "np.random.seed(42)\n",
    "myArr = np.random.randint(1, 100, 10)\n",
    "myArr"
   ]
  },
  {
   "cell_type": "code",
   "execution_count": null,
   "metadata": {},
   "outputs": [],
   "source": [
    "def findPairWithSmallestDiff(myList): # O(n^2)\n",
    "    num1, num2 = myList[0], myList[1] # assumig there are at least 2 values in the list\n",
    "    minDiff = abs(num1 - num2)\n",
    "    for i in range(len(myList)-1): # n\n",
    "        for j in range(i+1, len(myList)): # n-1\n",
    "            curDiff = abs(myList[i]-myList[j])\n",
    "            if curDiff < minDiff:\n",
    "                minDiff = curDiff\n",
    "                num1, num2 = myList[i], myList[j]\n",
    "    \n",
    "    print(num1, num2)"
   ]
  },
  {
   "cell_type": "code",
   "execution_count": 18,
   "metadata": {},
   "outputs": [
    {
     "name": "stdout",
     "output_type": "stream",
     "text": [
      "75 75\n"
     ]
    }
   ],
   "source": [
    "findPairWithSmallestDiff(myArr)"
   ]
  },
  {
   "cell_type": "code",
   "execution_count": null,
   "metadata": {},
   "outputs": [],
   "source": [
    "def findPairWithSmallestDiff_v2(myList): # O(n logn) + O(n) -> O(n logn)\n",
    "    #myList.sort()\n",
    "    myList = sorted(myList) # O(n logn)\n",
    "    num1, num2 = myList[0], myList[1] # assumig there are at least 2 values in the list\n",
    "    minDiff = abs(num1 - num2)\n",
    "    for i in range(1, len(myList)-1): # O(n)\n",
    "        curDiff = myList[i+1] - myList[i]\n",
    "        if curDiff < minDiff:\n",
    "            minDiff = curDiff\n",
    "            num1, num2 = myList[i], myList[i+1]\n",
    "    print(num1, num2)"
   ]
  },
  {
   "cell_type": "code",
   "execution_count": 20,
   "metadata": {},
   "outputs": [
    {
     "name": "stdout",
     "output_type": "stream",
     "text": [
      "75 75\n"
     ]
    }
   ],
   "source": [
    "findPairWithSmallestDiff_v2(myArr)"
   ]
  },
  {
   "cell_type": "code",
   "execution_count": 23,
   "metadata": {},
   "outputs": [],
   "source": [
    "myList = [1,5,2,4] # 3 is missing here"
   ]
  },
  {
   "cell_type": "code",
   "execution_count": null,
   "metadata": {},
   "outputs": [],
   "source": [
    "def FindMissingNumber(myList): # O(n^2)\n",
    "    n = len(myList) # O(1)\n",
    "    for val in range(1, n+2): # O(n)\n",
    "        if val not in myList: # O(n)\n",
    "            return val"
   ]
  },
  {
   "cell_type": "code",
   "execution_count": null,
   "metadata": {},
   "outputs": [],
   "source": [
    "def FindMissingNumberv2(myList): # O(n logn) + O(n) -> O(n logn)\n",
    "    myList = sorted(myList) # O(n logn)\n",
    "\n",
    "    for i in range(len(myList)-1): # O(n)\n",
    "        diff = myList[i+1] - myList[i]\n",
    "        if diff > 1:\n",
    "            return myList[i] + 1"
   ]
  },
  {
   "cell_type": "code",
   "execution_count": null,
   "metadata": {},
   "outputs": [],
   "source": [
    "def FindMissingNumberv3(myList): # O(n)\n",
    "    n = len(myList) + 1 # expected greatest number in the list -> O(1)\n",
    "    expectedSum = n * (n+1) / 2 # O(1)\n",
    "    return expectedSum - sum(myList) # O(n)"
   ]
  },
  {
   "cell_type": "code",
   "execution_count": 24,
   "metadata": {},
   "outputs": [
    {
     "data": {
      "text/plain": [
       "3"
      ]
     },
     "execution_count": 24,
     "metadata": {},
     "output_type": "execute_result"
    }
   ],
   "source": [
    "FindMissingNumber(myList)"
   ]
  },
  {
   "cell_type": "code",
   "execution_count": 26,
   "metadata": {},
   "outputs": [
    {
     "data": {
      "text/plain": [
       "3"
      ]
     },
     "execution_count": 26,
     "metadata": {},
     "output_type": "execute_result"
    }
   ],
   "source": [
    "FindMissingNumberv2(myList)"
   ]
  },
  {
   "cell_type": "code",
   "execution_count": 28,
   "metadata": {},
   "outputs": [
    {
     "data": {
      "text/plain": [
       "3.0"
      ]
     },
     "execution_count": 28,
     "metadata": {},
     "output_type": "execute_result"
    }
   ],
   "source": [
    "FindMissingNumberv3(myList)"
   ]
  },
  {
   "cell_type": "code",
   "execution_count": null,
   "metadata": {},
   "outputs": [],
   "source": [
    "def FindMissingNumber2ndVersion(myList): # [1,4,4,4,2] -> O(n) + O(n) -> O(n)\n",
    "    mySet = set(myList) # O(n) -> {1, 4, 2}\n",
    "    length = len(mySet) # O(1)\n",
    "    for val in range(1, length + 2): # O(n)\n",
    "        if val not in mySet: # O(1)\n",
    "            return val\n",
    "    "
   ]
  },
  {
   "cell_type": "code",
   "execution_count": 30,
   "metadata": {},
   "outputs": [
    {
     "data": {
      "text/plain": [
       "3"
      ]
     },
     "execution_count": 30,
     "metadata": {},
     "output_type": "execute_result"
    }
   ],
   "source": [
    "FindMissingNumber2ndVersion([1,4,4,4,2])"
   ]
  },
  {
   "cell_type": "code",
   "execution_count": 36,
   "metadata": {},
   "outputs": [],
   "source": [
    "def FindClosestPair(myList, target):\n",
    "    myList = sorted(myList)\n",
    "\n",
    "    left, right = 0, len(myList)-1\n",
    "    minDiff = abs(target - (myList[right]+myList[left]))\n",
    "    num1, num2 = myList[left], myList[right]\n",
    "    \n",
    "    while left < right:\n",
    "        curDiff = abs(target - (myList[right]+myList[left]))\n",
    "        if curDiff < minDiff:\n",
    "            minDiff = curDiff\n",
    "            num1, num2 = myList[left], myList[right]\n",
    "        if curDiff == 0:\n",
    "            return num1, num2\n",
    "        elif myList[right]+myList[left] < target:\n",
    "            left += 1\n",
    "        else:\n",
    "            right -= 1\n",
    "    return num1, num2"
   ]
  },
  {
   "cell_type": "code",
   "execution_count": 37,
   "metadata": {},
   "outputs": [
    {
     "data": {
      "text/plain": [
       "(22, 30)"
      ]
     },
     "execution_count": 37,
     "metadata": {},
     "output_type": "execute_result"
    }
   ],
   "source": [
    "FindClosestPair([22, 10, 28, 29, 30, 40], 54)"
   ]
  },
  {
   "cell_type": "code",
   "execution_count": null,
   "metadata": {},
   "outputs": [],
   "source": []
  }
 ],
 "metadata": {
  "kernelspec": {
   "display_name": "DSA201",
   "language": "python",
   "name": "python3"
  },
  "language_info": {
   "codemirror_mode": {
    "name": "ipython",
    "version": 3
   },
   "file_extension": ".py",
   "mimetype": "text/x-python",
   "name": "python",
   "nbconvert_exporter": "python",
   "pygments_lexer": "ipython3",
   "version": "3.12.4"
  }
 },
 "nbformat": 4,
 "nbformat_minor": 2
}
